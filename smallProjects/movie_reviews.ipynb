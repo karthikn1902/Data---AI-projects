{
  "metadata": {
    "kernelspec": {
      "name": "python",
      "display_name": "Python (Pyodide)",
      "language": "python"
    },
    "language_info": {
      "codemirror_mode": {
        "name": "python",
        "version": 3
      },
      "file_extension": ".py",
      "mimetype": "text/x-python",
      "name": "python",
      "nbconvert_exporter": "python",
      "pygments_lexer": "ipython3",
      "version": "3.8"
    }
  },
  "nbformat_minor": 5,
  "nbformat": 4,
  "cells": [
    {
      "id": "1c3b9a9e-921f-4046-a650-a4a4ef515ba3",
      "cell_type": "code",
      "source": "import pandas as pd\nimport numpy as np\nimport matplotlib.pyplot as plt\nfrom wordcloud import WordCloud",
      "metadata": {
        "trusted": true
      },
      "outputs": [],
      "execution_count": 2
    },
    {
      "id": "c9b5cfd1-24db-4107-bcf2-ae396cfba3a7",
      "cell_type": "code",
      "source": "import micropip\nawait micropip.install(\"seaborn\")\nimport seaborn as sns",
      "metadata": {
        "trusted": true
      },
      "outputs": [],
      "execution_count": 3
    },
    {
      "id": "7b1b386a-0299-460f-8e4d-1afa58cb9129",
      "cell_type": "code",
      "source": "import nltk\nfrom nltk.corpus import stopwords",
      "metadata": {
        "trusted": true
      },
      "outputs": [],
      "execution_count": 4
    },
    {
      "id": "3862b6d7-77e0-4aee-ad49-346d1ec2787e",
      "cell_type": "code",
      "source": "from sklearn.model_selection import train_test_split\nfrom sklearn.feature_extraction.text import TfidfVectorizer\nfrom sklearn.linear_model import LogisticRegression\nfrom sklearn.metrics import accuracy_score, confusion_matrix, classification_report\n",
      "metadata": {
        "trusted": true
      },
      "outputs": [],
      "execution_count": 19
    },
    {
      "id": "216d8adb-7ce4-422e-85e6-558fc5af1a19",
      "cell_type": "code",
      "source": "import re\nstop_words = set([\n    'i', 'me', 'my', 'myself', 'we', 'our', 'ours', 'ourselves',\n    'you', 'your', 'yours', 'yourself', 'yourselves',\n    'he', 'him', 'his', 'himself', 'she', 'her', 'hers',\n    'it', 'its', 'itself', 'they', 'them', 'their', 'theirs', 'themselves',\n    'what', 'which', 'who', 'whom', 'this', 'that', 'these', 'those',\n    'am', 'is', 'are', 'was', 'were', 'be', 'been', 'being',\n    'have', 'has', 'had', 'having', 'do', 'does', 'did', 'doing',\n    'a', 'an', 'the', 'and', 'but', 'if', 'or', 'because', 'as',\n    'until', 'while', 'of', 'at', 'by', 'for', 'with', 'about',\n    'against', 'between', 'into', 'through', 'during', 'before', 'after',\n    'above', 'below', 'to', 'from', 'up', 'down', 'in', 'out',\n    'on', 'off', 'over', 'under', 'again', 'further', 'then', 'once',\n    'here', 'there', 'when', 'where', 'why', 'how', 'all', 'any',\n    'both', 'each', 'few', 'more', 'most', 'other', 'some', 'such',\n    'no', 'nor', 'not', 'only', 'own', 'same', 'so', 'than', 'too',\n    'very', 's', 't', 'can', 'will', 'just', 'don', 'should', 'now'\n])\n\n\n",
      "metadata": {
        "trusted": true
      },
      "outputs": [],
      "execution_count": 18
    },
    {
      "id": "bd71bcfa-5186-498d-97be-7c50415c2968",
      "cell_type": "code",
      "source": "data = pd.read_csv(\"movie_reviews.csv\", sep='\\t', engine='python', on_bad_lines = 'skip')\nprint(data.shape)\nprint(data.head())\n",
      "metadata": {
        "trusted": true
      },
      "outputs": [
        {
          "name": "stdout",
          "output_type": "stream",
          "text": "(1537, 1)\n                                    review,sentiment\n0  This a fantastic movie of three prisoners who ...\n1  This was the worst movie I saw at WorldFest an...\n2  Protocol is an implausible movie whose only sa...\n3  This was probably the worst movie i have ever ...\n4  Oh noes one of these attack of the Japanese gh...\n"
        }
      ],
      "execution_count": 38
    },
    {
      "id": "a5760857-dae5-4609-ad3a-4053264a6394",
      "cell_type": "code",
      "source": "import csv\n\ndata = pd.read_csv(\"movie_reviews.csv\", quoting=csv.QUOTE_NONE, on_bad_lines = 'skip', encoding='utf-8')",
      "metadata": {
        "trusted": true
      },
      "outputs": [],
      "execution_count": 39
    },
    {
      "id": "8a5669c5-ab62-40a7-8697-bc50886bd80b",
      "cell_type": "code",
      "source": "def clean_text(text):\n    if not isinstance(text, str):\n        text = \"\"\n    text = re.sub(r'<[^>]*>', ' ', text)\n    text = re.sub(r'\\s+', ' ', text)\n    text = re.sub(r'[^a-zA-Z\\s]', '', text)\n    text = text.lower()\n    words = [w for w in text.split() if w not in stop_words]\n    return ' '.join(words)\n\ndata['clean_review'] = data['review'].apply(clean_text)",
      "metadata": {
        "trusted": true
      },
      "outputs": [],
      "execution_count": 44
    },
    {
      "id": "2ca5b0e5-d9bf-4fd0-a3f2-916e34c27692",
      "cell_type": "code",
      "source": "vectorizer = TfidfVectorizer(max_features=5000, stop_words=None)\n\nX = vectorizer.fit_transform(data['clean_review'])\ny = data['sentiment'].apply(lambda x:1 if str(x).lower() == 'positive' else 0)\n\nprint(X.shape)",
      "metadata": {
        "trusted": true
      },
      "outputs": [
        {
          "name": "stdout",
          "output_type": "stream",
          "text": "(45999, 1725)\n"
        }
      ],
      "execution_count": 41
    },
    {
      "id": "506c23ea-8175-44af-950f-04a5e547e6e5",
      "cell_type": "code",
      "source": "data = data.dropna(subset=['sentiment', 'clean_review'])",
      "metadata": {
        "trusted": true
      },
      "outputs": [],
      "execution_count": 63
    },
    {
      "id": "9a5b4b58-90c5-41fa-976b-d57f52ef4349",
      "cell_type": "code",
      "source": "X = data['clean_review']\ny = data['sentiment']\n\nX_train, X_test, y_train, y_test = train_test_split(X,y,test_size = 0.2, random_state=42)",
      "metadata": {
        "trusted": true
      },
      "outputs": [],
      "execution_count": 64
    },
    {
      "id": "46c50d90-3b22-46f7-ad75-ff3c3727dab9",
      "cell_type": "code",
      "source": "tfidf = TfidfVectorizer(max_features=5000, ngram_range=(1,2))\n\nX_train_tfidf = tfidf.fit_transform(X_train)\nX_test_tfidf = tfidf.transform(X_test)",
      "metadata": {
        "trusted": true
      },
      "outputs": [],
      "execution_count": 65
    },
    {
      "id": "cb17928d-b8cf-451d-b347-9ed623657a86",
      "cell_type": "code",
      "source": "model = LogisticRegression(max_iter=5000)\nmodel.fit(X_train_tfidf, y_train)\n\ny_pred = model.predict(X_test_tfidf)\n\nprint(\"Accuracy:\", accuracy_score(y_test, y_pred))\nprint(\"\\nClassification Report:\\n\", classification_report(y_test, y_pred))\nprint(\"\\nConfusion Matrix:\\n\", confusion_matrix(y_test, y_pred))",
      "metadata": {
        "trusted": true
      },
      "outputs": [
        {
          "name": "stdout",
          "output_type": "stream",
          "text": "Accuracy: 0.5694444444444444\n\nClassification Report:\n               precision    recall  f1-score   support\n\n    negative       0.69      0.30      0.42        37\n    positive       0.54      0.86      0.66        35\n\n    accuracy                           0.57        72\n   macro avg       0.61      0.58      0.54        72\nweighted avg       0.61      0.57      0.53        72\n\n\nConfusion Matrix:\n [[11 26]\n [ 5 30]]\n"
        }
      ],
      "execution_count": 66
    },
    {
      "id": "5121845d-73ed-41ec-adba-751913668856",
      "cell_type": "code",
      "source": "results = pd.DataFrame({\n    'review': X_test,\n    'actual_sentiment': y_test,\n    'predicted_sentiment': y_pred\n})",
      "metadata": {
        "trusted": true
      },
      "outputs": [],
      "execution_count": 67
    },
    {
      "id": "16089004-f286-4044-b8d4-e5c9536eac09",
      "cell_type": "code",
      "source": "misclassified = results[results['actual_sentiment'] != results['predicted_sentiment']]",
      "metadata": {
        "trusted": true
      },
      "outputs": [],
      "execution_count": 68
    },
    {
      "id": "a7ffb509-02c5-4f14-b279-cae0e92d3e52",
      "cell_type": "code",
      "source": "misclassified.tail(1)",
      "metadata": {
        "trusted": true
      },
      "outputs": [
        {
          "execution_count": 70,
          "output_type": "execute_result",
          "data": {
            "text/plain": "                                                                                                                                                                                                                                                                                                                                                                                                                                                                                                                                                                                                                                                                                                                                                                                                                                                                                                                                                                                                                                                                                         review  \\\n\"In trying to keep up with the hipness of youth... OaCD YCSF was the product of odder and odder materia... ESP and hypno-therapy... pretty loopy! The real... and what can happen when a man falls in love with a previous incarn... but strangely it can't even go any place old! Indeed if it could audiences would still have no interest in the u... arrogant French ass) and Streisand. (a much younger girl... their situations or outcomes. Montand is miscas... as when she's trying not to fall asleep on her ... Jewish girl shtick. She can however sing very well at both the \"\"gentle\"\" and \"\"powerhouse\"\" ends ... she gets 3 or 4 amazing songs* of much higher c... ' but the movie isn't able to realize any impac... and nothing remotely suggests a great love is b... better-explained and more decorative but not necessarily a better film at: http://ba... there'd be more thoughtful work from Minelli.<b... after she discovers he's a total dick who feeds... uh... hooray for that.<br /><br />(*Hurry it's ... Love with all the trimmings He isn't you  title song   \n\n                                                                                                                                                                                                                                                                                                                                                                                                                                                                                                                                                                                                                                                                                                                                                                                                                                                                                                                                                                                                                                                                                    actual_sentiment  \\\n\"In trying to keep up with the hipness of youth... OaCD YCSF was the product of odder and odder materia... ESP and hypno-therapy... pretty loopy! The real... and what can happen when a man falls in love with a previous incarn... but strangely it can't even go any place old! Indeed if it could audiences would still have no interest in the u... arrogant French ass) and Streisand. (a much younger girl... their situations or outcomes. Montand is miscas... as when she's trying not to fall asleep on her ... Jewish girl shtick. She can however sing very well at both the \"\"gentle\"\" and \"\"powerhouse\"\" ends ... she gets 3 or 4 amazing songs* of much higher c... ' but the movie isn't able to realize any impac... and nothing remotely suggests a great love is b... better-explained and more decorative but not necessarily a better film at: http://ba... there'd be more thoughtful work from Minelli.<b... after she discovers he's a total dick who feeds... uh... hooray for that.<br /><br />(*Hurry it's ... Love with all the trimmings He isn't you         negative   \n\n                                                                                                                                                                                                                                                                                                                                                                                                                                                                                                                                                                                                                                                                                                                                                                                                                                                                                                                                                                                                                                                                                    predicted_sentiment  \n\"In trying to keep up with the hipness of youth... OaCD YCSF was the product of odder and odder materia... ESP and hypno-therapy... pretty loopy! The real... and what can happen when a man falls in love with a previous incarn... but strangely it can't even go any place old! Indeed if it could audiences would still have no interest in the u... arrogant French ass) and Streisand. (a much younger girl... their situations or outcomes. Montand is miscas... as when she's trying not to fall asleep on her ... Jewish girl shtick. She can however sing very well at both the \"\"gentle\"\" and \"\"powerhouse\"\" ends ... she gets 3 or 4 amazing songs* of much higher c... ' but the movie isn't able to realize any impac... and nothing remotely suggests a great love is b... better-explained and more decorative but not necessarily a better film at: http://ba... there'd be more thoughtful work from Minelli.<b... after she discovers he's a total dick who feeds... uh... hooray for that.<br /><br />(*Hurry it's ... Love with all the trimmings He isn't you            positive  ",
            "text/html": "<div>\n<style scoped>\n    .dataframe tbody tr th:only-of-type {\n        vertical-align: middle;\n    }\n\n    .dataframe tbody tr th {\n        vertical-align: top;\n    }\n\n    .dataframe thead th {\n        text-align: right;\n    }\n</style>\n<table border=\"1\" class=\"dataframe\">\n  <thead>\n    <tr style=\"text-align: right;\">\n      <th></th>\n      <th></th>\n      <th></th>\n      <th></th>\n      <th></th>\n      <th></th>\n      <th></th>\n      <th></th>\n      <th></th>\n      <th></th>\n      <th></th>\n      <th></th>\n      <th></th>\n      <th></th>\n      <th></th>\n      <th></th>\n      <th></th>\n      <th></th>\n      <th></th>\n      <th></th>\n      <th></th>\n      <th></th>\n      <th></th>\n      <th></th>\n      <th></th>\n      <th></th>\n      <th>review</th>\n      <th>actual_sentiment</th>\n      <th>predicted_sentiment</th>\n    </tr>\n  </thead>\n  <tbody>\n    <tr>\n      <th>\"In trying to keep up with the hipness of youthful audiences as the 70s approached</th>\n      <th>OaCD</th>\n      <th>YCSF was the product of odder and odder material selected for musicalization. Here it's past life regression</th>\n      <th>ESP and hypno-therapy... pretty loopy! The real problem with the concept (music or not) are the extraordinarily low dramatic stakes; just where can a movie go</th>\n      <th>and what can happen</th>\n      <th>when a man falls in love with a previous incarnation of a girl he can't stand? It can't go any place new</th>\n      <th>but strangely</th>\n      <th>it can't even go any place old! Indeed</th>\n      <th>if it could</th>\n      <th>audiences would still have no interest in the union of Yves Montand (playing a much older</th>\n      <th>arrogant</th>\n      <th>French ass) and Streisand. (a much younger girl). We never become invested in them</th>\n      <th>their situations or outcomes. Montand is miscast and his strong accent makes many of his lyrics unintelligible.&lt;br /&gt;&lt;br /&gt;It's all been given a shallow 60s veneer that makes it eminently disposable; despite efforts here and there from Minelli that are respectable. It's not even adapted from a non-musical story that met with any previous success... that's just too passe! Streisand occasionally has some funny business to offer</th>\n      <th>as when she's trying not to fall asleep on her roof and improvises an energetic dance. But she over-relies on her ingratiating (translation: irritating) kooky</th>\n      <th>Jewish girl shtick. She can however sing very well</th>\n      <th>at both the \"\"gentle\"\" and \"\"powerhouse\"\" ends of the range. Amidst a score of musical dross</th>\n      <th>she gets 3 or 4 amazing songs* of much higher caliber than anything Fanny or Dolly had to offer. 'He isn't you' is a sweet trifle as sublime as Lorenz Hart's 'My Funny Valentine</th>\n      <th>' but the movie isn't able to realize any impact from it; because the lyrics don't seem to be referring to anything in the movie</th>\n      <th>and nothing remotely suggests a great love is blossoming between Chabot and Melinda.&lt;br /&gt;&lt;br /&gt;The only cut we can view is a poor hatchet job of a much bigger film. Strong research shows a longer</th>\n      <th>better-explained and more decorative</th>\n      <th>but not necessarily a better film at: http://barbra-archives.com/films/clear_day_streisand_2.html. You can be sure there's be more Babs in that version but more importantly</th>\n      <th>there'd be more thoughtful work from Minelli.&lt;br /&gt;&lt;br /&gt;In the end Montand sends Babs off to sing the title song</th>\n      <th>after she discovers he's a total dick who feeds her a self-esteem homily to allow himself off the hook. And she takes the bait. So</th>\n      <th>uh... hooray for that.&lt;br /&gt;&lt;br /&gt;(*Hurry it's lovely up here</th>\n      <th>Love with all the trimmings</th>\n      <th>He isn't you</th>\n      <td>title song</td>\n      <td>negative</td>\n      <td>positive</td>\n    </tr>\n  </tbody>\n</table>\n</div>"
          },
          "metadata": {}
        }
      ],
      "execution_count": 70
    },
    {
      "id": "08e12e8b-8f8a-481a-9663-e470ad0b5088",
      "cell_type": "code",
      "source": "",
      "metadata": {
        "trusted": true
      },
      "outputs": [],
      "execution_count": null
    }
  ]
}