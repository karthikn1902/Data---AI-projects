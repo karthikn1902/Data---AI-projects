{
  "metadata": {
    "kernelspec": {
      "name": "python",
      "display_name": "Python (Pyodide)",
      "language": "python"
    },
    "language_info": {
      "codemirror_mode": {
        "name": "python",
        "version": 3
      },
      "file_extension": ".py",
      "mimetype": "text/x-python",
      "name": "python",
      "nbconvert_exporter": "python",
      "pygments_lexer": "ipython3",
      "version": "3.8"
    }
  },
  "nbformat_minor": 5,
  "nbformat": 4,
  "cells": [
    {
      "id": "23f5d6eb-1037-4a76-964f-847d4a59ed5f",
      "cell_type": "code",
      "source": "import pandas as pd\n\n# Load the uploaded dataset\ndf = pd.read_csv('spam.csv', encoding='latin-1')\n\n# Clean and prepare\ndf = df.drop(['Unnamed: 2', 'Unnamed: 3', 'Unnamed: 4'], axis=1, errors='ignore')\ndf = df.rename(columns={'v1': 'label', 'v2': 'message'})\n\nprint(df.head())",
      "metadata": {
        "trusted": true
      },
      "outputs": [
        {
          "name": "stdout",
          "output_type": "stream",
          "text": "  label                                            message\n0   ham  Go until jurong point, crazy.. Available only ...\n1   ham                      Ok lar... Joking wif u oni...\n2  spam  Free entry in 2 a wkly comp to win FA Cup fina...\n3   ham  U dun say so early hor... U c already then say...\n4   ham  Nah I don't think he goes to usf, he lives aro...\n"
        }
      ],
      "execution_count": 5
    },
    {
      "id": "c650da4d-4393-4ad7-9f03-d10d0f6c0dd7",
      "cell_type": "code",
      "source": "df['label'] = df['label'].map({'spam': 1, 'ham': 0})\n",
      "metadata": {
        "trusted": true
      },
      "outputs": [],
      "execution_count": 6
    },
    {
      "id": "e1d23c2b-9c1d-4575-b330-8b64f2618086",
      "cell_type": "code",
      "source": "from sklearn.feature_extraction.text import CountVectorizer\nvectorizer = CountVectorizer()\nfeatures = vectorizer.fit_transform(df['message'])\n",
      "metadata": {
        "trusted": true
      },
      "outputs": [],
      "execution_count": 7
    },
    {
      "id": "c83ab83a-e653-401f-a71f-d64ee60c2e99",
      "cell_type": "code",
      "source": "from sklearn.model_selection import train_test_split\nX_train, X_test, y_train, y_test = train_test_split(features, df['label'], test_size=0.2, random_state=42)\n",
      "metadata": {
        "trusted": true
      },
      "outputs": [],
      "execution_count": 8
    },
    {
      "id": "02f22299-7035-45dd-a276-3b695d26de88",
      "cell_type": "code",
      "source": "from sklearn.naive_bayes import MultinomialNB\nmodel = MultinomialNB()\nmodel.fit(X_train, y_train)\npredictions = model.predict(X_test)\n",
      "metadata": {
        "trusted": true
      },
      "outputs": [],
      "execution_count": 9
    },
    {
      "id": "9220a3ba-b638-4e1e-8842-c988cb76690e",
      "cell_type": "code",
      "source": "from sklearn.metrics import classification_report, accuracy_score\nprint(\"Accuracy:\", accuracy_score(y_test, predictions))\nprint(classification_report(y_test, predictions))\n",
      "metadata": {
        "trusted": true
      },
      "outputs": [
        {
          "name": "stdout",
          "output_type": "stream",
          "text": "Accuracy: 0.979372197309417\n              precision    recall  f1-score   support\n\n           0       0.99      0.99      0.99       965\n           1       0.92      0.93      0.92       150\n\n    accuracy                           0.98      1115\n   macro avg       0.95      0.96      0.96      1115\nweighted avg       0.98      0.98      0.98      1115\n\n"
        }
      ],
      "execution_count": 10
    },
    {
      "id": "474ef477-4fdc-4bdd-9abb-c159c6836783",
      "cell_type": "code",
      "source": "sample = [\"Congratulations! You've won a free ticket. Call now.\"]\nsample_features = vectorizer.transform(sample)\nprint(model.predict(sample_features))  # 1 for spam, 0 for ham\n",
      "metadata": {
        "trusted": true
      },
      "outputs": [
        {
          "name": "stdout",
          "output_type": "stream",
          "text": "[1]\n"
        }
      ],
      "execution_count": 11
    },
    {
      "id": "9c182e77-e442-4a4f-9193-b234b0203e41",
      "cell_type": "code",
      "source": "",
      "metadata": {
        "trusted": true
      },
      "outputs": [],
      "execution_count": null
    }
  ]
}